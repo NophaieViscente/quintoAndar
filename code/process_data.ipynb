{
 "cells": [
  {
   "cell_type": "markdown",
   "metadata": {},
   "source": [
    "##### Import libs"
   ]
  },
  {
   "cell_type": "code",
   "execution_count": 1,
   "metadata": {},
   "outputs": [],
   "source": [
    "import pandas as pd\n",
    "from decouple import config\n",
    "import ast\n",
    "from collections import defaultdict\n",
    "import numpy as np\n",
    "# Load enviroment variables.\n",
    "ROOT_PATH       = config('ROOT_PATH')\n",
    "DATA_RAW_PATH   = config('DATA_RAW_PATH')"
   ]
  },
  {
   "cell_type": "markdown",
   "metadata": {},
   "source": [
    "##### Load data"
   ]
  },
  {
   "cell_type": "code",
   "execution_count": 51,
   "metadata": {},
   "outputs": [],
   "source": [
    "raw_data = pd.read_csv(ROOT_PATH+DATA_RAW_PATH+'dataframe_raw_properties.csv',low_memory=False)\n",
    "data_ids = pd.read_csv(ROOT_PATH+DATA_RAW_PATH+'dataframe_ids.csv',low_memory=False)"
   ]
  },
  {
   "cell_type": "code",
   "execution_count": 34,
   "metadata": {},
   "outputs": [],
   "source": [
    "def transform_dict_features_in_columns (dataframe:pd.DataFrame, column_to_transform:str) -> pd.DataFrame:\n",
    "    '''\n",
    "        This method transform a string in a list of dict format in a dataframe, when\n",
    "        each element will be transformed in a column of dataframe.\n",
    "\n",
    "        Parameters :\n",
    "            dataframe : A dataframe to looking for\n",
    "            column_to_transform : A column that contains data to transform\n",
    "    '''\n",
    "    dict_ = defaultdict(list)\n",
    "    for index in range(len(dataframe)) :\n",
    "        line_column_to_transform = ast.literal_eval(dataframe[column_to_transform][index].strip('\"'))\n",
    "        if len(line_column_to_transform) > 0 :\n",
    "            for elem in line_column_to_transform:\n",
    "                dict_[elem['key']].append(elem['value'])\n",
    "        else : \n",
    "            for key in dict_ :\n",
    "                dict_[key].append(np.nan)\n",
    "                \n",
    "    return pd.DataFrame.from_dict(dict_)"
   ]
  },
  {
   "cell_type": "markdown",
   "metadata": {},
   "source": [
    "##### Process data"
   ]
  },
  {
   "cell_type": "code",
   "execution_count": 44,
   "metadata": {},
   "outputs": [],
   "source": [
    "# Create dataframe with data\n",
    "data_properties = transform_dict_features_in_columns(raw_data,'amenities')\n",
    "# Concatenate data\n",
    "data_tmp = pd.concat([data_ids,data_properties],axis=1)\n",
    "# Drop NaN Lines\n",
    "data_tmp = data_tmp.dropna(axis=0)\n",
    "# Export to csv\n",
    "data_tmp.to_csv(ROOT_PATH+DATA_RAW_PATH+'dataframe_merged.csv')"
   ]
  }
 ],
 "metadata": {
  "kernelspec": {
   "display_name": "Python 3.10.4 ('quintoAndar')",
   "language": "python",
   "name": "python3"
  },
  "language_info": {
   "codemirror_mode": {
    "name": "ipython",
    "version": 3
   },
   "file_extension": ".py",
   "mimetype": "text/x-python",
   "name": "python",
   "nbconvert_exporter": "python",
   "pygments_lexer": "ipython3",
   "version": "3.10.4"
  },
  "orig_nbformat": 4,
  "vscode": {
   "interpreter": {
    "hash": "d665647494f9724d61cf4f59a2f88859aa4b129c98d9715c795a1440f2d55f55"
   }
  }
 },
 "nbformat": 4,
 "nbformat_minor": 2
}
