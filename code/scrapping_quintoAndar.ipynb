{
 "cells": [
  {
   "cell_type": "markdown",
   "metadata": {},
   "source": [
    "##### Import libs"
   ]
  },
  {
   "cell_type": "code",
   "execution_count": 3,
   "metadata": {},
   "outputs": [],
   "source": [
    "import pandas as pd\n",
    "import json\n",
    "import requests\n",
    "from bs4 import BeautifulSoup\n",
    "from decouple import config\n",
    "from collections import defaultdict\n",
    "import time\n",
    "# Get URL_PRINCIPAL of .env file.\n",
    "URL_PRINCIPAL = config('URL_PRINCIPAL')"
   ]
  },
  {
   "cell_type": "code",
   "execution_count": 4,
   "metadata": {},
   "outputs": [],
   "source": [
    "def mount_dataframe_with_ids (URL_PRINCIPAL:str)->pd.DataFrame :\n",
    "    '''\n",
    "        This method receives a API URL with filter desejate, and returns\n",
    "        a dataframe with ids, latitude and longitude of houses/apartments\n",
    "        of the quintoandar.com.br . \n",
    "\n",
    "        Parameters : \n",
    "            URL_PRINCIPAL : Url of api, that contains a desejated filter.\n",
    "        \n",
    "        Ex :\n",
    "            mount_dataframe_with_ids(URL_PRINCIPAL)\n",
    "        Returns : \n",
    "            \t_index\t_type\t_id\t          _score\t                    _source\n",
    "            0\thouse\t_doc\t892986759\t    0.0\t        {'location': {'lon': -46.6424942, 'lat': -23.6...\n",
    "            1\thouse\t_doc\t893564058\t    0.0\t        {'location': {'lon': -46.6420724, 'lat': -23.5...\n",
    "            2\thouse\t_doc\t893324382\t    0.0\t        {'location': {'lon': -46.6649749, 'lat': -23.6...\n",
    "    '''\n",
    "    response = requests.get(URL_PRINCIPAL)\n",
    "    data = response.json()\n",
    "    dataframe_ = pd.DataFrame.from_dict(data['hits']['hits'])\n",
    "\n",
    "    return dataframe_"
   ]
  },
  {
   "cell_type": "code",
   "execution_count": 5,
   "metadata": {},
   "outputs": [],
   "source": [
    "data_tmp = mount_dataframe_with_ids (URL_PRINCIPAL)"
   ]
  },
  {
   "cell_type": "code",
   "execution_count": 6,
   "metadata": {},
   "outputs": [],
   "source": [
    "def remove_dict_of_column (dataframe:pd.DataFrame)->tuple[list] :\n",
    "    list_long = []\n",
    "    list_lat = [] \n",
    "    for index in range(len(dataframe)) : \n",
    "        list_long.append(dataframe['_source'][index]['location']['lon'])\n",
    "        list_lat.append(dataframe['_source'][index]['location']['lat'])\n",
    "    return list_long, list_lat"
   ]
  },
  {
   "cell_type": "code",
   "execution_count": 7,
   "metadata": {},
   "outputs": [],
   "source": [
    "list_long, list_lat = remove_dict_of_column(data_tmp)\n",
    "data_tmp['lon'] = list_long\n",
    "data_tmp['lat'] = list_lat\n",
    "data_tmp.drop(['_source','_type','_score'],axis=1,inplace=True)\n",
    "data_tmp.rename(columns={'_index':'type','_id':'id'},inplace=True)"
   ]
  },
  {
   "cell_type": "code",
   "execution_count": 8,
   "metadata": {},
   "outputs": [],
   "source": [
    "def scrapper_ (dataframe:pd.DataFrame, column_id:str)-> pd.DataFrame:\n",
    "    '''\n",
    "        This method receives a dataframe and a id, to scrapping data about\n",
    "        this id in the quinto andar site. This method returns a dataframe.\n",
    "\n",
    "        Parameters :\n",
    "            dataframe : A dataframe that contains the ids of data\n",
    "            column_id : column that contains id of data that will want to get.\n",
    "\n",
    "        \n",
    "    '''\n",
    "    results = []\n",
    "    for index in range(len(dataframe)) : \n",
    "        id = dataframe[column_id][index]\n",
    "        url = f'https://www.quintoandar.com.br/imovel/{id}'\n",
    "        try : \n",
    "            response = requests.get(url)\n",
    "            soup = BeautifulSoup(response.content,'html.parser')\n",
    "            dict_details = json.loads(soup.find(id='__NEXT_DATA__').string)\n",
    "            result = dict_details['props']['pageProps']['initialState']['house']['houseInfo']\n",
    "            results.append(result)\n",
    "            #time.sleep(1)\n",
    "            print(f'Getting index {id}.')\n",
    "        except :\n",
    "            print(f'Index {id} not found.') \n",
    "            continue\n",
    "    return pd.DataFrame(results)\n",
    "        \n",
    "        "
   ]
  },
  {
   "cell_type": "code",
   "execution_count": 9,
   "metadata": {},
   "outputs": [
    {
     "name": "stdout",
     "output_type": "stream",
     "text": [
      "Getting index 0.\n",
      "Getting index 1.\n",
      "Getting index 2.\n",
      "Getting index 3.\n",
      "Getting index 4.\n",
      "Getting index 5.\n",
      "Index 893567381 not found.\n",
      "Getting index 7.\n",
      "Getting index 8.\n",
      "Getting index 9.\n",
      "Getting index 10.\n",
      "Getting index 11.\n",
      "Getting index 12.\n",
      "Getting index 13.\n",
      "Getting index 14.\n",
      "Getting index 15.\n",
      "Getting index 16.\n",
      "Getting index 17.\n",
      "Getting index 18.\n",
      "Getting index 19.\n",
      "Getting index 20.\n",
      "Getting index 21.\n",
      "Getting index 22.\n"
     ]
    }
   ],
   "source": [
    "data_ = scrapper_(data_tmp, 'id')\n",
    "#data_.to_csv(r'../data/raw/dataframe_raw.csv')"
   ]
  },
  {
   "cell_type": "code",
   "execution_count": null,
   "metadata": {},
   "outputs": [],
   "source": []
  }
 ],
 "metadata": {
  "kernelspec": {
   "display_name": "Python 3.10.4 ('quintoAndar')",
   "language": "python",
   "name": "python3"
  },
  "language_info": {
   "codemirror_mode": {
    "name": "ipython",
    "version": 3
   },
   "file_extension": ".py",
   "mimetype": "text/x-python",
   "name": "python",
   "nbconvert_exporter": "python",
   "pygments_lexer": "ipython3",
   "version": "3.10.4"
  },
  "orig_nbformat": 4,
  "vscode": {
   "interpreter": {
    "hash": "d665647494f9724d61cf4f59a2f88859aa4b129c98d9715c795a1440f2d55f55"
   }
  }
 },
 "nbformat": 4,
 "nbformat_minor": 2
}
